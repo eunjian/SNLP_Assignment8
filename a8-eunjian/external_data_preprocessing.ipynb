{
 "cells": [
  {
   "cell_type": "code",
   "execution_count": 3,
   "id": "proof-antigua",
   "metadata": {},
   "outputs": [],
   "source": [
    "import pandas as pd\n",
    "import re\n",
    "\n",
    "# Read the file\n",
    "df = pd.read_csv('gender_data.csv', sep=',', encoding='utf-8')\n",
    "label = df['gender'].to_list()\n",
    "text = df['description'].to_list()\n",
    "\n",
    "# Select only the label and text data to make a dataframe\n",
    "# Also, remove unnecessary labels other than males and females\n",
    "data = pd.DataFrame(label,columns=['label'])\n",
    "data['text'] = text\n",
    "mask_1 = data['label'].isin(['brand','unknown'])\n",
    "data = data[~mask_1].reset_index(drop=True)\n",
    "data = data.dropna() "
   ]
  },
  {
   "cell_type": "code",
   "execution_count": 4,
   "id": "little-windsor",
   "metadata": {},
   "outputs": [],
   "source": [
    "# Change the labels as 'm' and 'f' for male and female\n",
    "\n",
    "def change_label(label):\n",
    "    if label == 'male':\n",
    "        label = re.sub('male','m',label)\n",
    "    elif label == 'female':\n",
    "        label = re.sub('female','f',label)\n",
    "    return label\n",
    "\n",
    "data['label'] = data['label'].apply(lambda x: change_label(x))"
   ]
  },
  {
   "cell_type": "code",
   "execution_count": 5,
   "id": "fantastic-implementation",
   "metadata": {},
   "outputs": [],
   "source": [
    "# delete the emoji in the text\n",
    "\n",
    "def remove_emoji(text):\n",
    "    reg_pattern = re.compile(pattern=\"[\"u\"\\U0001F600-\\U0001F64F\"  # emoticons\n",
    "                                     u\"\\U0001F300-\\U0001F5FF\"  # symbols & pictographs\n",
    "                                     u\"\\U0001F680-\\U0001F6FF\"  # transport & map symbols\n",
    "                                     u\"\\U0001F1E0-\\U0001F1FF\"  # flags (iOS)\n",
    "                                     u\"\\U00002702-\\U000027B0\"\n",
    "                                     u\"\\U000024C2-\\U0001F251\"\"]+\", flags=re.UNICODE)\n",
    "    return reg_pattern.sub(r'', text)\n",
    "\n",
    "data['text'] = data['text'].apply(lambda x: remove_emoji(x))"
   ]
  },
  {
   "cell_type": "code",
   "execution_count": 13,
   "id": "governing-senegal",
   "metadata": {},
   "outputs": [],
   "source": [
    "# remove HTML entities &gt &lt &amp\n",
    "data['text'] = data['text'].apply(lambda x: x.replace(\"&gt;\", \"\").replace(\"&lt;\", \"\").replace(\"&amp;\", \"\"))\n",
    "\n",
    "# remove URL and @USER tokens\n",
    "data['text'] = data['text'].apply(lambda x: x.replace(\"url\", \"\").replace(\"@user\", \"\"))\n",
    "\n",
    "# remove special characters including hashtags, remove punctuation, numbers\n",
    "data['text'] = data['text'].apply(lambda x: re.sub(r'[?$%&()\\-_=+\\]\\[{}!<>^\".,;@#\\d]', '', x))\n",
    "\n",
    "# remove multiple spaces\n",
    "data['text'] = data['text'].apply(lambda x: re.sub(r'\\s+', ' ', x))\n",
    "\n",
    "# delete some data which has no text\n",
    "mask_2 = data['text'].isin(['', ' '])\n",
    "data = data[~mask_2].reset_index(drop=True)\n",
    "data = data.dropna() "
   ]
  },
  {
   "cell_type": "code",
   "execution_count": 14,
   "id": "hungry-lloyd",
   "metadata": {},
   "outputs": [],
   "source": [
    "data.to_csv('ext_data.csv',mode='w',sep='\\t',index=False)"
   ]
  }
 ],
 "metadata": {
  "kernelspec": {
   "display_name": "Python 3",
   "language": "python",
   "name": "python3"
  },
  "language_info": {
   "codemirror_mode": {
    "name": "ipython",
    "version": 3
   },
   "file_extension": ".py",
   "mimetype": "text/x-python",
   "name": "python",
   "nbconvert_exporter": "python",
   "pygments_lexer": "ipython3",
   "version": "3.8.5"
  }
 },
 "nbformat": 4,
 "nbformat_minor": 5
}
